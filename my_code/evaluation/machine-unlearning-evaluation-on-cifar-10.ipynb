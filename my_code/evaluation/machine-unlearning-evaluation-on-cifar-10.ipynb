{
 "cells": [
  {
   "cell_type": "markdown",
   "id": "261e03c7",
   "metadata": {
    "papermill": {
     "duration": 0.006628,
     "end_time": "2023-11-12T17:43:51.196388",
     "exception": false,
     "start_time": "2023-11-12T17:43:51.189760",
     "status": "completed"
    },
    "tags": []
   },
   "source": [
    "# Machine Unlearning Evaluation on CIFAR-10\n",
    "\n",
    "This notebook implements a version of the machine unlearning algorithm evaluation strategy as described in \"[Evaluation for the NeurIPS Machine Unlearning Competition](https://unlearning-challenge.github.io/assets/data/Machine_Unlearning_Metric.pdf)\". \n",
    "\n",
    "In particular, it implements Algorithm 1, the *forgetting quality* $\\mathcal{F}$, and the total scoring function from the above article. It also provides a version of a full scoring function, meant to be mimicking the one used for the competition, and uses it to score a \"perfect\" unlearning algorithm on CIFAR-10.\n",
    "\n",
    "Note that the article does not include all details needed for reproducing the code for computing this metric, thus some gaps are filled in in an improvised manner. The following values and functions are unknown: \n",
    "* the value of $\\delta$,\n",
    "* the summary statistic $f$ that summarises the outpus of the models $R_i$ and $U_i$ into a scalar, and\n",
    "* the attacks that yield the false positive rates (FPRs) and false negative rates (FNRs) needed for Algorithm 1.\n",
    "\n",
    "The following values are used for this notebook:\n",
    "* $\\delta = 0.01$\n",
    "* $f = $ cross entropy loss\n",
    "* attacks = [ logistic_regression, best_threshold_attack ]\n",
    "\n"
   ]
  },
  {
   "cell_type": "code",
   "execution_count": 1,
   "id": "f43ccd12",
   "metadata": {
    "execution": {
     "iopub.execute_input": "2023-11-12T17:43:51.209832Z",
     "iopub.status.busy": "2023-11-12T17:43:51.209454Z",
     "iopub.status.idle": "2023-11-12T17:43:55.877084Z",
     "shell.execute_reply": "2023-11-12T17:43:55.875962Z"
    },
    "id": "V6YXq1oMM3bj",
    "outputId": "eb1d1857-20e9-4bf1-e849-87d953ed74ac",
    "papermill": {
     "duration": 4.676845,
     "end_time": "2023-11-12T17:43:55.879277",
     "exception": false,
     "start_time": "2023-11-12T17:43:51.202432",
     "status": "completed"
    },
    "tags": []
   },
   "outputs": [
    {
     "name": "stderr",
     "output_type": "stream",
     "text": [
      "/opt/conda/lib/python3.10/site-packages/scipy/__init__.py:146: UserWarning: A NumPy version >=1.16.5 and <1.23.0 is required for this version of SciPy (detected version 1.23.5\n",
      "  warnings.warn(f\"A NumPy version >={np_minversion} and <{np_maxversion}\"\n"
     ]
    },
    {
     "name": "stdout",
     "output_type": "stream",
     "text": [
      "Running on device: CUDA\n"
     ]
    }
   ],
   "source": [
    "import os\n",
    "import requests\n",
    "from copy import deepcopy\n",
    "from typing import Callable\n",
    "from tqdm.notebook import tqdm\n",
    "\n",
    "import numpy as np\n",
    "import matplotlib.pyplot as plt\n",
    "plt.style.use(\"ggplot\")\n",
    "\n",
    "from sklearn import linear_model, model_selection\n",
    "from sklearn.metrics import make_scorer, accuracy_score\n",
    "\n",
    "import torch\n",
    "from torch import nn\n",
    "from torch import optim\n",
    "from torch.utils.data import DataLoader, Subset, random_split\n",
    "\n",
    "import torchvision\n",
    "from torchvision import transforms\n",
    "from torchvision.utils import make_grid\n",
    "from torchvision.models import resnet18\n",
    "\n",
    "DEVICE = \"cuda\" if torch.cuda.is_available() else \"cpu\"\n",
    "print(\"Running on device:\", DEVICE.upper())"
   ]
  },
  {
   "cell_type": "markdown",
   "id": "c30ba4b7",
   "metadata": {
    "id": "cZWK7sDSatvj",
    "papermill": {
     "duration": 0.006229,
     "end_time": "2023-11-12T17:43:55.892006",
     "exception": false,
     "start_time": "2023-11-12T17:43:55.885777",
     "status": "completed"
    },
    "tags": []
   },
   "source": [
    "## Simple metrics\n",
    "\n",
    "Below are several basic helper functions for computing various outputs and metrics. The `accuracy` function was introduced in the original CIFAR-10 helper notebook.`compute_outputs` simply computes the logit outputs of a given model. Importantly, it makes sure not to shuffle the data, so that samples from the forget set are grouped correctly when computing FPR and FNR later on."
   ]
  },
  {
   "cell_type": "code",
   "execution_count": 2,
   "id": "aced2058",
   "metadata": {
    "execution": {
     "iopub.execute_input": "2023-11-12T17:43:55.905854Z",
     "iopub.status.busy": "2023-11-12T17:43:55.905411Z",
     "iopub.status.idle": "2023-11-12T17:43:55.917453Z",
     "shell.execute_reply": "2023-11-12T17:43:55.916583Z"
    },
    "id": "X2hegPagM3bl",
    "outputId": "2678bf07-3af5-4029-81eb-339e7c1f9436",
    "papermill": {
     "duration": 0.021221,
     "end_time": "2023-11-12T17:43:55.919378",
     "exception": false,
     "start_time": "2023-11-12T17:43:55.898157",
     "status": "completed"
    },
    "tags": []
   },
   "outputs": [],
   "source": [
    "def accuracy(net, loader):\n",
    "    \"\"\"Return accuracy on a dataset given by the data loader.\"\"\"\n",
    "    correct = 0\n",
    "    total = 0\n",
    "    for inputs, targets in loader:\n",
    "        inputs, targets = inputs.to(DEVICE), targets.to(DEVICE)\n",
    "        outputs = net(inputs)\n",
    "        _, predicted = outputs.max(1)\n",
    "        total += targets.size(0)\n",
    "        correct += predicted.eq(targets).sum().item()\n",
    "    return correct / total\n",
    "\n",
    "\n",
    "def compute_outputs(net, loader):\n",
    "    \"\"\"Auxiliary function to compute the logits for all datapoints.\n",
    "    Does not shuffle the data, regardless of the loader.\n",
    "    \"\"\"\n",
    "\n",
    "    # Make sure loader does not shuffle the data\n",
    "    if isinstance(loader.sampler, torch.utils.data.sampler.RandomSampler):\n",
    "        loader = DataLoader(\n",
    "            loader.dataset, \n",
    "            batch_size=loader.batch_size, \n",
    "            shuffle=False, \n",
    "            num_workers=loader.num_workers)\n",
    "    \n",
    "    all_outputs = []\n",
    "    \n",
    "    for inputs, targets in loader:\n",
    "        inputs, targets = inputs.to(DEVICE), targets.to(DEVICE)\n",
    "\n",
    "        logits = net(inputs).detach().cpu().numpy() # (batch_size, num_classes)\n",
    "        \n",
    "        all_outputs.append(logits)\n",
    "        \n",
    "    return np.concatenate(all_outputs) # (len(loader.dataset), num_classes)\n",
    "\n",
    "\n",
    "def false_positive_rate(y_true: np.ndarray, y_pred: np.ndarray) -> float:\n",
    "    \"\"\"Computes the false positive rate (FPR).\"\"\"\n",
    "    fp = np.sum(np.logical_and((y_pred == 1), (y_true == 0)))\n",
    "    n = np.sum(y_true == 0)\n",
    "    return fp / n\n",
    "\n",
    "\n",
    "def false_negative_rate(y_true: np.ndarray, y_pred: np.ndarray) -> float:\n",
    "    \"\"\"Computes the false negative rate (FNR).\"\"\"\n",
    "    fn = np.sum(np.logical_and((y_pred == 0), (y_true == 1)))\n",
    "    p = np.sum(y_true == 1)\n",
    "    return fn / p\n",
    "\n",
    "\n",
    "# The SCORING dictionary is used by sklearn's `cross_validate` function so that\n",
    "# we record the FPR and FNR metrics of interest when doing cross validation\n",
    "SCORING = {\n",
    "    'false_positive_rate': make_scorer(false_positive_rate),\n",
    "    'false_negative_rate': make_scorer(false_negative_rate)\n",
    "}"
   ]
  },
  {
   "cell_type": "markdown",
   "id": "15680d37",
   "metadata": {
    "papermill": {
     "duration": 0.006037,
     "end_time": "2023-11-12T17:43:55.932605",
     "exception": false,
     "start_time": "2023-11-12T17:43:55.926568",
     "status": "completed"
    },
    "tags": []
   },
   "source": [
    "## The summary statistic $f$\n",
    "\n",
    "Recall that $U^s$ and $R^s$ are the distributions of (scalar) outputs of unlearned and retrained models when receiving a particular forget set example $s \\in S$ as input. That is: \n",
    "\n",
    "$$U^s = \\{ f(U_1(s)), \\dots f(U_N(s)) \\}$$\n",
    "\n",
    "$$R^s = \\{ f(R_1(s)), \\dots f(R_N(s)) \\}$$\n",
    "\n",
    "where $M(s)$ yields the outputs obtained by feeding example s into model $M$, $f$ is the function that transforms those outputs into a scalar, and $N$ is the number of times we retrain / unlearn to obtain an approximation of the distribution of retrained / unlearned models.\n",
    "\n",
    "The actual function $f$ used for scoring is not disclosed in the competition article. Below is an $f$ that computes the cross entropy loss between the logit output x and the highest probability class as given by the model output x. This statistic $f$ corresponds to the (negative log) probability that the model assigns to the class that the model predicts with the highest probability. "
   ]
  },
  {
   "cell_type": "code",
   "execution_count": 3,
   "id": "d34066bc",
   "metadata": {
    "execution": {
     "iopub.execute_input": "2023-11-12T17:43:55.945845Z",
     "iopub.status.busy": "2023-11-12T17:43:55.945572Z",
     "iopub.status.idle": "2023-11-12T17:43:55.951099Z",
     "shell.execute_reply": "2023-11-12T17:43:55.950204Z"
    },
    "papermill": {
     "duration": 0.01427,
     "end_time": "2023-11-12T17:43:55.952937",
     "exception": false,
     "start_time": "2023-11-12T17:43:55.938667",
     "status": "completed"
    },
    "tags": []
   },
   "outputs": [],
   "source": [
    "def cross_entropy_f(x):\n",
    "    # To ensure this function doesn't fail due to nans, find\n",
    "    # all-nan rows in x and substitude them with all-zeros.\n",
    "    x[np.all(np.isnan(x), axis=-1)] = np.zeros(x.shape[-1])\n",
    "    \n",
    "    pred = torch.tensor(np.nanargmax(x, axis = -1))\n",
    "    x = torch.tensor(x)\n",
    "\n",
    "    fn = nn.CrossEntropyLoss(reduction=\"none\")\n",
    "    \n",
    "    return fn(x, pred).numpy()"
   ]
  },
  {
   "cell_type": "markdown",
   "id": "a243fa0c",
   "metadata": {
    "papermill": {
     "duration": 0.005907,
     "end_time": "2023-11-12T17:43:55.964920",
     "exception": false,
     "start_time": "2023-11-12T17:43:55.959013",
     "status": "completed"
    },
    "tags": []
   },
   "source": [
    "## Decision rules (attacks)\n",
    "Next, we define the *decision rules (attaks)* to be used when computing the forgetting quality. \n",
    "\n",
    "A decision rule is a function, which takes $U^s$ and $R^s$ as input, learns to predict wheather a (scalar) output $y \\in U^s \\bigcup R^s$ has been generated by an unlearned or a retrained model. The rule than returns the false positive rate (FPR) and the false negative rate (FNR) of the prediction.\n",
    "\n",
    "The original article does not specify what the decision rules used are, so the ones chosen here are improvised:\n",
    "* Logistic regression attack: Train a logistic regression classifier to predict whether a scalar output comes from a retrained or an unlearned model. Use cross validation and return the average FPR and FPN across different test folds.\n",
    "* Best threshold attack: Consider a model that predicts that everything below certain threshold comes from the retrained model, and everything above that threshold comes from the unlearned model. Calculate the FPR and FNR for all the possible thresholds. "
   ]
  },
  {
   "cell_type": "code",
   "execution_count": 4,
   "id": "6ce8869d",
   "metadata": {
    "execution": {
     "iopub.execute_input": "2023-11-12T17:43:55.978129Z",
     "iopub.status.busy": "2023-11-12T17:43:55.977858Z",
     "iopub.status.idle": "2023-11-12T17:43:55.988272Z",
     "shell.execute_reply": "2023-11-12T17:43:55.987614Z"
    },
    "papermill": {
     "duration": 0.019239,
     "end_time": "2023-11-12T17:43:55.990160",
     "exception": false,
     "start_time": "2023-11-12T17:43:55.970921",
     "status": "completed"
    },
    "tags": []
   },
   "outputs": [],
   "source": [
    "def logistic_regression_attack(\n",
    "        outputs_U, outputs_R, n_splits=2, random_state=0):\n",
    "    \"\"\"Computes cross-validation score of a membership inference attack.\n",
    "\n",
    "    Args:\n",
    "      outputs_U: numpy array of shape (N)\n",
    "      outputs_R: numpy array of shape (N)\n",
    "      n_splits: int\n",
    "        number of splits to use in the cross-validation.\n",
    "    Returns:\n",
    "      fpr, fnr : float * float\n",
    "    \"\"\"\n",
    "    assert len(outputs_U) == len(outputs_R)\n",
    "    \n",
    "    samples = np.concatenate((outputs_R, outputs_U)).reshape((-1, 1))\n",
    "    labels = np.array([0] * len(outputs_R) + [1] * len(outputs_U))\n",
    "\n",
    "    attack_model = linear_model.LogisticRegression()\n",
    "    cv = model_selection.StratifiedShuffleSplit(\n",
    "        n_splits=n_splits, random_state=random_state\n",
    "    )\n",
    "    scores =  model_selection.cross_validate(\n",
    "        attack_model, samples, labels, cv=cv, scoring=SCORING)\n",
    "    \n",
    "    fpr = np.mean(scores[\"test_false_positive_rate\"])\n",
    "    fnr = np.mean(scores[\"test_false_negative_rate\"])\n",
    "    \n",
    "    return fpr, fnr\n",
    "\n",
    "\n",
    "def best_threshold_attack(\n",
    "        outputs_U: np.ndarray, \n",
    "        outputs_R: np.ndarray, \n",
    "        random_state: int = 0\n",
    "    ) -> tuple[list[float], list[float]]:\n",
    "    \"\"\"Computes FPRs and FNRs for an attack that simply splits into \n",
    "    predicted positives and predited negatives based on any possible \n",
    "    single threshold.\n",
    "\n",
    "    Args:\n",
    "      outputs_U: numpy array of shape (N)\n",
    "      outputs_R: numpy array of shape (N)\n",
    "    Returns:\n",
    "      fpr, fnr : list[float] * list[float]\n",
    "    \"\"\"\n",
    "    assert len(outputs_U) == len(outputs_R)\n",
    "    \n",
    "    samples = np.concatenate((outputs_R, outputs_U))\n",
    "    labels = np.array([0] * len(outputs_R) + [1] * len(outputs_U))\n",
    "\n",
    "    N = len(outputs_U)\n",
    "    \n",
    "    fprs, fnrs = [], []\n",
    "    for thresh in sorted(list(samples.squeeze())):\n",
    "        ypred = (samples > thresh).astype(\"int\")\n",
    "        fprs.append(false_positive_rate(labels, ypred))\n",
    "        fnrs.append(false_negative_rate(labels, ypred))\n",
    "    \n",
    "    return fprs, fnrs"
   ]
  },
  {
   "cell_type": "markdown",
   "id": "50e36ac9",
   "metadata": {
    "papermill": {
     "duration": 0.005832,
     "end_time": "2023-11-12T17:43:56.002055",
     "exception": false,
     "start_time": "2023-11-12T17:43:55.996223",
     "status": "completed"
    },
    "tags": []
   },
   "source": [
    "## The privacy degree $\\epsilon_s$, and the scoring function $\\mathcal{H}$\n",
    "\n",
    "Next we specify the function`compute_epsilon_s`, which corresponds to Algorithm 1 from the scoring article. It considers a particular example $s$ from the forget set, it takes the list of FPRs and FNRs as produced by various attacks, and computes the privacy degree $\\epsilon^s$ of the example $s$. "
   ]
  },
  {
   "cell_type": "code",
   "execution_count": 5,
   "id": "21ceba06",
   "metadata": {
    "execution": {
     "iopub.execute_input": "2023-11-12T17:43:56.015279Z",
     "iopub.status.busy": "2023-11-12T17:43:56.015003Z",
     "iopub.status.idle": "2023-11-12T17:43:56.025052Z",
     "shell.execute_reply": "2023-11-12T17:43:56.024277Z"
    },
    "papermill": {
     "duration": 0.018976,
     "end_time": "2023-11-12T17:43:56.027020",
     "exception": false,
     "start_time": "2023-11-12T17:43:56.008044",
     "status": "completed"
    },
    "tags": []
   },
   "outputs": [],
   "source": [
    "def compute_epsilon_s(fpr: list[float], fnr: list[float], delta: float) -> float:\n",
    "    \"\"\"Computes the privacy degree (epsilon) of a particular forget set example, \n",
    "    given the FPRs and FNRs resulting from various attacks.\n",
    "    \n",
    "    The smaller epsilon is, the better the unlearning is.\n",
    "    \n",
    "    Args:\n",
    "      fpr: list[float] of length m = num attacks. The FPRs for a particular example. \n",
    "      fnr: list[float] of length m = num attacks. The FNRs for a particular example.\n",
    "      delta: float\n",
    "    Returns:\n",
    "      epsilon: float corresponding to the privacy degree of the particular example.\n",
    "    \"\"\"\n",
    "    assert len(fpr) == len(fnr)\n",
    "    \n",
    "    per_attack_epsilon = [0.]\n",
    "    for fpr_i, fnr_i in zip(fpr, fnr):\n",
    "        if fpr_i == 0 and fnr_i == 0:\n",
    "            per_attack_epsilon.append(np.inf)\n",
    "        elif fpr_i == 0 or fnr_i == 0:\n",
    "            pass # discard attack\n",
    "        else:\n",
    "            with np.errstate(invalid='ignore'):\n",
    "                epsilon1 = np.log(1. - delta - fpr_i) - np.log(fnr_i)\n",
    "                epsilon2 = np.log(1. - delta - fnr_i) - np.log(fpr_i)\n",
    "            if np.isnan(epsilon1) and np.isnan(epsilon2):\n",
    "                per_attack_epsilon.append(np.inf)\n",
    "            else:\n",
    "                per_attack_epsilon.append(np.nanmax([epsilon1, epsilon2]))\n",
    "            \n",
    "    return np.nanmax(per_attack_epsilon)\n",
    "\n",
    "\n",
    "def bin_index_fn(\n",
    "        epsilons: np.ndarray, \n",
    "        bin_width: float = 0.5, \n",
    "        B: int = 13\n",
    "        ) -> np.ndarray:\n",
    "    \"\"\"The bin index function.\"\"\"\n",
    "    bins = np.arange(0, B) * bin_width\n",
    "    return np.digitize(epsilons, bins)\n",
    "\n",
    "\n",
    "def F(epsilons: np.ndarray) -> float:\n",
    "    \"\"\"Computes the forgetting quality given the privacy degrees \n",
    "    of the forget set examples.\n",
    "    \"\"\"\n",
    "    ns = bin_index_fn(epsilons)\n",
    "    hs = 2. / 2 ** ns\n",
    "    return np.mean(hs)"
   ]
  },
  {
   "cell_type": "markdown",
   "id": "fb307f0b",
   "metadata": {
    "papermill": {
     "duration": 0.005817,
     "end_time": "2023-11-12T17:43:56.038915",
     "exception": false,
     "start_time": "2023-11-12T17:43:56.033098",
     "status": "completed"
    },
    "tags": []
   },
   "source": [
    "### The forgetting quality $\\mathcal{F}$\n",
    "\n",
    "The function below computes the forgetting quality $\\mathcal{F}$ given only the (scalar) outputs of the $N$ retrain and $N$ unlearn models on all the forget set examples. It:\n",
    "1. Iterates over each sample in $S$,\n",
    "2. Performs the attacks specified to obtain lists of FPRs and FNRs,\n",
    "3. Computes the privacy degree $\\epsilon^s$ for each sample,\n",
    "4. Computes the forgetting quality by averaging over the forget scores of all samples."
   ]
  },
  {
   "cell_type": "code",
   "execution_count": 6,
   "id": "fc467053",
   "metadata": {
    "execution": {
     "iopub.execute_input": "2023-11-12T17:43:56.052144Z",
     "iopub.status.busy": "2023-11-12T17:43:56.051871Z",
     "iopub.status.idle": "2023-11-12T17:43:56.060314Z",
     "shell.execute_reply": "2023-11-12T17:43:56.059473Z"
    },
    "papermill": {
     "duration": 0.017261,
     "end_time": "2023-11-12T17:43:56.062263",
     "exception": false,
     "start_time": "2023-11-12T17:43:56.045002",
     "status": "completed"
    },
    "tags": []
   },
   "outputs": [],
   "source": [
    "def forgetting_quality(\n",
    "        outputs_U: np.ndarray, # (N, S)\n",
    "        outputs_R: np.ndarray, # (N, S)\n",
    "        attacks: list[Callable] = [logistic_regression_attack],\n",
    "        delta: float = 0.01\n",
    "    ):\n",
    "    \"\"\"\n",
    "    Both `outputs_U` and `outputs_R` are of numpy arrays of ndim 2:\n",
    "    * 1st dimension coresponds to the number of samples obtained from the \n",
    "      distribution of each model (N=512 in the case of the competition's leaderboard) \n",
    "    * 2nd dimension corresponds to the number of samples in the forget set (S).\n",
    "    \"\"\"\n",
    "    \n",
    "    # N = number of model samples\n",
    "    # S = number of forget samples\n",
    "    N, S = outputs_U.shape\n",
    "    \n",
    "    assert outputs_U.shape == outputs_R.shape, \\\n",
    "        \"unlearn and retrain outputs need to be of the same shape\"\n",
    "    \n",
    "    epsilons = []\n",
    "    pbar = tqdm(range(S))\n",
    "    for sample_id in pbar:\n",
    "        pbar.set_description(\"Computing F...\")\n",
    "        \n",
    "        sample_fprs, sample_fnrs = [], []\n",
    "        \n",
    "        for attack in attacks: \n",
    "            uls = outputs_U[:, sample_id]\n",
    "            rls = outputs_R[:, sample_id]\n",
    "            \n",
    "            fpr, fnr = attack(uls, rls)\n",
    "            \n",
    "            if isinstance(fpr, list):\n",
    "                sample_fprs.extend(fpr)\n",
    "                sample_fnrs.extend(fnr)\n",
    "            else:\n",
    "                sample_fprs.append(fpr)\n",
    "                sample_fnrs.append(fnr)\n",
    "        \n",
    "        sample_epsilon = compute_epsilon_s(sample_fprs, sample_fnrs, delta=delta)\n",
    "        epsilons.append(sample_epsilon)\n",
    "        \n",
    "    return F(np.array(epsilons))"
   ]
  },
  {
   "cell_type": "markdown",
   "id": "e1bf77d1",
   "metadata": {
    "papermill": {
     "duration": 0.005864,
     "end_time": "2023-11-12T17:43:56.074158",
     "exception": false,
     "start_time": "2023-11-12T17:43:56.068294",
     "status": "completed"
    },
    "tags": []
   },
   "source": [
    "### Global scoring function\n",
    "\n",
    "Finally, we package everything together in a single function that takes an unlearning callable, unlearns many times and outputs a dictionary of various quantities, including:\n",
    "* The forget quality $\\mathcal{F}$\n",
    "* The various accuracies $RA^U, TA^U, RA^R, TA^R$\n",
    "* The total score = $\\mathcal{F} \\times \\frac{RA^U}{RA^R} \\times \\frac{TA^U}{TA^R}$\n",
    "\n",
    "Note that since we are provided with only one retrained model for for the CIFAR dataset example, this function includes a littel hack where we add some noise to the output of that pretrained mdoel a few times, instead of pretraining from scratch. The correct version of this function would consider $N$ separate models retrained from scratch with different random seed.  "
   ]
  },
  {
   "cell_type": "code",
   "execution_count": 7,
   "id": "13632dcd",
   "metadata": {
    "execution": {
     "iopub.execute_input": "2023-11-12T17:43:56.087807Z",
     "iopub.status.busy": "2023-11-12T17:43:56.087495Z",
     "iopub.status.idle": "2023-11-12T17:43:56.101471Z",
     "shell.execute_reply": "2023-11-12T17:43:56.100495Z"
    },
    "papermill": {
     "duration": 0.023183,
     "end_time": "2023-11-12T17:43:56.103323",
     "exception": false,
     "start_time": "2023-11-12T17:43:56.080140",
     "status": "completed"
    },
    "tags": []
   },
   "outputs": [],
   "source": [
    "def score_unlearning_algorithm(\n",
    "        data_loaders: dict, \n",
    "        pretrained_models: dict, \n",
    "        unlearning: Callable, \n",
    "        n: int = 10,\n",
    "        delta: float = 0.01,\n",
    "        f: Callable = cross_entropy_f,\n",
    "        attacks: list[Callable] = [best_threshold_attack, logistic_regression_attack]\n",
    "        ) -> dict:\n",
    "    \n",
    "    # n=512 in the case of unlearn and n=1 in the\n",
    "    # case of retrain, since we are only provided with one retrained model here\n",
    "\n",
    "    retain_loader = data_loaders[\"retain\"]\n",
    "    forget_loader = data_loaders[\"forget\"]\n",
    "    val_loader = data_loaders[\"validation\"]\n",
    "    test_loader = data_loaders[\"testing\"]\n",
    "\n",
    "    original_model = pretrained_models[\"original\"]\n",
    "    rt_model = pretrained_models[\"retrained\"]\n",
    "\n",
    "    outputs_U = []\n",
    "    retain_accuracy = []\n",
    "    test_accuracy = []\n",
    "    forget_accuracy = []\n",
    "\n",
    "    pbar = tqdm(range(n))\n",
    "    for i in pbar:\n",
    "        # unlearned model\n",
    "        u_model = deepcopy(original_model)\n",
    "        # Execute the unlearing routine. This might take a few minutes.\n",
    "        # If run on colab, be sure to be running it on  an instance with GPUs\n",
    "\n",
    "        pbar.set_description(f\"Unlearning...\")\n",
    "        u_model = unlearning(u_model, retain_loader, forget_loader, val_loader)\n",
    "\n",
    "        outputs_Ui = compute_outputs(u_model, forget_loader) \n",
    "        # The shape of outputs_Ui is (len(forget_loader.dataset), 10)\n",
    "        # which for every datapoint is being cast to a scalar using the funtion f\n",
    "        outputs_U.append( f(outputs_Ui) )\n",
    "\n",
    "        pbar.set_description(f\"Computing retain accuracy...\")\n",
    "        retain_accuracy.append(accuracy(u_model, retain_loader))\n",
    "\n",
    "        pbar.set_description(f\"Computing test accuracy...\")\n",
    "        test_accuracy.append(accuracy(u_model, test_loader))\n",
    "\n",
    "        pbar.set_description(f\"Computing forget accuracy...\")\n",
    "        forget_accuracy.append(accuracy(u_model, forget_loader))\n",
    "\n",
    "\n",
    "    outputs_U = np.array(outputs_U) # (n, len(forget_loader.dataset))\n",
    "\n",
    "    assert outputs_U.shape == (n, len(forget_loader.dataset)),\\\n",
    "        \"Wrong shape for outputs_U. Should be (num_model_samples, num_forget_datapoints).\"\n",
    "\n",
    "    RAR = accuracy(rt_model, retain_loader)\n",
    "    TAR = accuracy(rt_model, test_loader)\n",
    "    FAR = accuracy(rt_model, forget_loader)\n",
    "\n",
    "    RAU = np.mean(retain_accuracy)\n",
    "    TAU = np.mean(test_accuracy)\n",
    "    FAU = np.mean(forget_accuracy)\n",
    "\n",
    "    RA_ratio = RAU / RAR\n",
    "    TA_ratio = TAU / TAR\n",
    "\n",
    "    # need to fake this a little because we only have one retrain model\n",
    "    scale = np.std(outputs_U) / 10.\n",
    "    outputs_Ri = compute_outputs(rt_model, forget_loader) #(len(forget_loader.dataset), 10) \n",
    "    outputs_Ri = np.expand_dims(outputs_Ri, axis=0)\n",
    "    outputs_Ri = np.random.normal(\n",
    "        loc=outputs_Ri, scale=scale, size=(n, *outputs_Ri.shape[-2:]))\n",
    "    \n",
    "    outputs_R = np.array([ f( oRi ) for oRi in outputs_Ri ])\n",
    "\n",
    "    np.save(\"outputs_U.npy\", outputs_U)\n",
    "    np.save(\"outputs_R.npy\", outputs_R)\n",
    "    \n",
    "    f = forgetting_quality(\n",
    "        outputs_U, \n",
    "        outputs_R,\n",
    "        attacks=attacks,\n",
    "        delta=delta)\n",
    "\n",
    "    return {\n",
    "        \"total_score\": f * RA_ratio * TA_ratio,\n",
    "        \"F\": f,\n",
    "        \"unlearn_retain_accuracy\": RAU,\n",
    "        \"unlearn_test_accuracy\": TAU, \n",
    "        \"unlearn_forget_accuracy\": FAU,\n",
    "        \"retrain_retain_accuracy\": RAR,\n",
    "        \"retrain_test_accuracy\": TAR, \n",
    "        \"retrain_forget_accuracy\": FAR,\n",
    "        \"retrain_outputs\": outputs_R,\n",
    "        \"unlearn_outputs\": outputs_U\n",
    "    }"
   ]
  },
  {
   "cell_type": "markdown",
   "id": "f0a2d052",
   "metadata": {
    "papermill": {
     "duration": 0.005771,
     "end_time": "2023-11-12T17:43:56.115224",
     "exception": false,
     "start_time": "2023-11-12T17:43:56.109453",
     "status": "completed"
    },
    "tags": []
   },
   "source": [
    "### Example \n",
    "\n",
    "Consider a \"perfect\" unlearning function, which returns the retrained model. "
   ]
  },
  {
   "cell_type": "code",
   "execution_count": 8,
   "id": "00a44cb0",
   "metadata": {
    "execution": {
     "iopub.execute_input": "2023-11-12T17:43:56.128194Z",
     "iopub.status.busy": "2023-11-12T17:43:56.127925Z",
     "iopub.status.idle": "2023-11-12T17:43:56.131992Z",
     "shell.execute_reply": "2023-11-12T17:43:56.131149Z"
    },
    "papermill": {
     "duration": 0.012685,
     "end_time": "2023-11-12T17:43:56.133904",
     "exception": false,
     "start_time": "2023-11-12T17:43:56.121219",
     "status": "completed"
    },
    "tags": []
   },
   "outputs": [],
   "source": [
    "def unlearning(net, *args, **kwargs): \n",
    "    \"\"\"A placeholder prefect unlearning function, which returns \n",
    "    the retrained model. Note there is no randomness in this\"\"\"\n",
    "    return deepcopy(pretrained_models[\"retrained\"])"
   ]
  },
  {
   "cell_type": "markdown",
   "id": "8b83854c",
   "metadata": {
    "papermill": {
     "duration": 0.005868,
     "end_time": "2023-11-12T17:43:56.145842",
     "exception": false,
     "start_time": "2023-11-12T17:43:56.139974",
     "status": "completed"
    },
    "tags": []
   },
   "source": [
    "Load the CIFAR data splits and pretrained models."
   ]
  },
  {
   "cell_type": "code",
   "execution_count": 9,
   "id": "c03298e1",
   "metadata": {
    "execution": {
     "iopub.execute_input": "2023-11-12T17:43:56.159464Z",
     "iopub.status.busy": "2023-11-12T17:43:56.158684Z",
     "iopub.status.idle": "2023-11-12T17:44:08.906497Z",
     "shell.execute_reply": "2023-11-12T17:44:08.905430Z"
    },
    "papermill": {
     "duration": 12.75697,
     "end_time": "2023-11-12T17:44:08.908950",
     "exception": false,
     "start_time": "2023-11-12T17:43:56.151980",
     "status": "completed"
    },
    "tags": []
   },
   "outputs": [
    {
     "name": "stdout",
     "output_type": "stream",
     "text": [
      "Downloading https://www.cs.toronto.edu/~kriz/cifar-10-python.tar.gz to ./data/cifar-10-python.tar.gz\n"
     ]
    },
    {
     "name": "stderr",
     "output_type": "stream",
     "text": [
      "100%|██████████| 170498071/170498071 [00:05<00:00, 33795419.46it/s]\n"
     ]
    },
    {
     "name": "stdout",
     "output_type": "stream",
     "text": [
      "Extracting ./data/cifar-10-python.tar.gz to ./data\n",
      "Files already downloaded and verified\n"
     ]
    }
   ],
   "source": [
    "from load_cifar_script import get_cifar10_data, get_cifar10_pretrained_models\n",
    "\n",
    "data_loaders = get_cifar10_data()\n",
    "pretrained_models = get_cifar10_pretrained_models(device=DEVICE)"
   ]
  },
  {
   "cell_type": "markdown",
   "id": "7934f379",
   "metadata": {
    "papermill": {
     "duration": 0.009807,
     "end_time": "2023-11-12T17:44:08.929312",
     "exception": false,
     "start_time": "2023-11-12T17:44:08.919505",
     "status": "completed"
    },
    "tags": []
   },
   "source": [
    "Score the \"perfect\" unlearning algorithm."
   ]
  },
  {
   "cell_type": "code",
   "execution_count": 10,
   "id": "f3ba5899",
   "metadata": {
    "execution": {
     "iopub.execute_input": "2023-11-12T17:44:08.950487Z",
     "iopub.status.busy": "2023-11-12T17:44:08.950149Z",
     "iopub.status.idle": "2023-11-12T17:46:35.021710Z",
     "shell.execute_reply": "2023-11-12T17:46:35.020555Z"
    },
    "papermill": {
     "duration": 146.084737,
     "end_time": "2023-11-12T17:46:35.023927",
     "exception": false,
     "start_time": "2023-11-12T17:44:08.939190",
     "status": "completed"
    },
    "tags": []
   },
   "outputs": [
    {
     "data": {
      "application/vnd.jupyter.widget-view+json": {
       "model_id": "ab8a4740684f4fe39f7459396e4c65a3",
       "version_major": 2,
       "version_minor": 0
      },
      "text/plain": [
       "  0%|          | 0/10 [00:00<?, ?it/s]"
      ]
     },
     "metadata": {},
     "output_type": "display_data"
    },
    {
     "data": {
      "application/vnd.jupyter.widget-view+json": {
       "model_id": "35ccf517fe4844b2b737cf8b34dbecbe",
       "version_major": 2,
       "version_minor": 0
      },
      "text/plain": [
       "  0%|          | 0/5000 [00:00<?, ?it/s]"
      ]
     },
     "metadata": {},
     "output_type": "display_data"
    }
   ],
   "source": [
    "ret = score_unlearning_algorithm(data_loaders, pretrained_models, unlearning)"
   ]
  },
  {
   "cell_type": "code",
   "execution_count": 11,
   "id": "04d9aeb0",
   "metadata": {
    "execution": {
     "iopub.execute_input": "2023-11-12T17:46:35.050626Z",
     "iopub.status.busy": "2023-11-12T17:46:35.049752Z",
     "iopub.status.idle": "2023-11-12T17:46:35.060021Z",
     "shell.execute_reply": "2023-11-12T17:46:35.058646Z"
    },
    "papermill": {
     "duration": 0.027956,
     "end_time": "2023-11-12T17:46:35.062601",
     "exception": false,
     "start_time": "2023-11-12T17:46:35.034645",
     "status": "completed"
    },
    "tags": []
   },
   "outputs": [
    {
     "data": {
      "text/plain": [
       "{'total_score': 0.9532114257812501,\n",
       " 'F': 0.95321142578125,\n",
       " 'unlearn_retain_accuracy': 0.9952666666666665,\n",
       " 'unlearn_test_accuracy': 0.8796000000000002,\n",
       " 'unlearn_forget_accuracy': 0.882,\n",
       " 'retrain_retain_accuracy': 0.9952666666666666,\n",
       " 'retrain_test_accuracy': 0.8796,\n",
       " 'retrain_forget_accuracy': 0.882,\n",
       " 'retrain_outputs': array([[3.76141521e-01, 6.95593952e-03, 5.40270685e-05, ...,\n",
       "         1.45207440e-01, 4.72513759e-01, 2.19643186e-03],\n",
       "        [3.85681042e-01, 6.95498474e-03, 5.59256025e-05, ...,\n",
       "         1.42481316e-01, 4.67354550e-01, 2.19742597e-03],\n",
       "        [3.76109109e-01, 6.94134841e-03, 5.36628785e-05, ...,\n",
       "         1.39986226e-01, 4.62486124e-01, 2.25327036e-03],\n",
       "        ...,\n",
       "        [3.91361953e-01, 6.78387965e-03, 5.67867339e-05, ...,\n",
       "         1.41330933e-01, 4.64775808e-01, 2.21350189e-03],\n",
       "        [3.87859666e-01, 6.64971201e-03, 5.28554440e-05, ...,\n",
       "         1.42432681e-01, 4.53579548e-01, 2.09323577e-03],\n",
       "        [3.97167842e-01, 6.97535577e-03, 5.55023714e-05, ...,\n",
       "         1.40827574e-01, 4.66500585e-01, 2.20054577e-03]]),\n",
       " 'unlearn_outputs': array([[3.8563216e-01, 6.8271230e-03, 5.4477161e-05, ..., 1.4155446e-01,\n",
       "         4.6083200e-01, 2.1786781e-03],\n",
       "        [3.8563216e-01, 6.8271230e-03, 5.4477161e-05, ..., 1.4155446e-01,\n",
       "         4.6083200e-01, 2.1786781e-03],\n",
       "        [3.8563216e-01, 6.8271230e-03, 5.4477161e-05, ..., 1.4155446e-01,\n",
       "         4.6083200e-01, 2.1786781e-03],\n",
       "        ...,\n",
       "        [3.8563216e-01, 6.8271230e-03, 5.4477161e-05, ..., 1.4155446e-01,\n",
       "         4.6083200e-01, 2.1786781e-03],\n",
       "        [3.8563216e-01, 6.8271230e-03, 5.4477161e-05, ..., 1.4155446e-01,\n",
       "         4.6083200e-01, 2.1786781e-03],\n",
       "        [3.8563216e-01, 6.8271230e-03, 5.4477161e-05, ..., 1.4155446e-01,\n",
       "         4.6083200e-01, 2.1786781e-03]], dtype=float32)}"
      ]
     },
     "execution_count": 11,
     "metadata": {},
     "output_type": "execute_result"
    }
   ],
   "source": [
    "ret"
   ]
  },
  {
   "cell_type": "code",
   "execution_count": 12,
   "id": "d2baf174",
   "metadata": {
    "execution": {
     "iopub.execute_input": "2023-11-12T17:46:35.093657Z",
     "iopub.status.busy": "2023-11-12T17:46:35.093312Z",
     "iopub.status.idle": "2023-11-12T17:46:35.370346Z",
     "shell.execute_reply": "2023-11-12T17:46:35.369424Z"
    },
    "id": "CYTGGV56EEMN",
    "papermill": {
     "duration": 0.296622,
     "end_time": "2023-11-12T17:46:35.372493",
     "exception": false,
     "start_time": "2023-11-12T17:46:35.075871",
     "status": "completed"
    },
    "tags": []
   },
   "outputs": [
    {
     "data": {
      "image/png": "[encoded data removed]",
      "text/plain": [
       "<Figure size 640x480 with 1 Axes>"
      ]
     },
     "metadata": {},
     "output_type": "display_data"
    }
   ],
   "source": [
    "udata = ret[\"unlearn_outputs\"][:,0]\n",
    "rdata = ret[\"retrain_outputs\"][:,0]\n",
    "data = np.array([udata, rdata])\n",
    "\n",
    "bins = np.arange(np.min(data), np.max(data) + 0.1, 0.1)\n",
    "\n",
    "plt.hist(udata, bins=bins, alpha=0.7, label=\"Unlearned\")\n",
    "plt.hist(rdata, bins=bins, alpha=0.7, label=\"Retrained\")\n",
    "\n",
    "plt.legend()\n",
    "plt.show()"
   ]
  },
  {
   "cell_type": "code",
   "execution_count": null,
   "id": "5a270dad",
   "metadata": {
    "papermill": {
     "duration": 0.010593,
     "end_time": "2023-11-12T17:46:35.394307",
     "exception": false,
     "start_time": "2023-11-12T17:46:35.383714",
     "status": "completed"
    },
    "tags": []
   },
   "outputs": [],
   "source": []
  }
 ],
 "metadata": {
  "kernelspec": {
   "display_name": "Python 3",
   "language": "python",
   "name": "python3"
  },
  "language_info": {
   "codemirror_mode": {
    "name": "ipython",
    "version": 3
   },
   "file_extension": ".py",
   "mimetype": "text/x-python",
   "name": "python",
   "nbconvert_exporter": "python",
   "pygments_lexer": "ipython3",
   "version": "3.10.12"
  },
  "papermill": {
   "default_parameters": {},
   "duration": 169.195879,
   "end_time": "2023-11-12T17:46:37.028312",
   "environment_variables": {},
   "exception": null,
   "input_path": "__notebook__.ipynb",
   "output_path": "__notebook__.ipynb",
   "parameters": {},
   "start_time": "2023-11-12T17:43:47.832433",
   "version": "2.4.0"
  },
  "widgets": {
   "application/vnd.jupyter.widget-state+json": {
    "state": {
     "00de5564ee2f4dd38403787c25101456": {
      "model_module": "@jupyter-widgets/base",
      "model_module_version": "1.2.0",
      "model_name": "LayoutModel",
      "state": {
       "_model_module": "@jupyter-widgets/base",
       "_model_module_version": "1.2.0",
       "_model_name": "LayoutModel",
       "_view_count": null,
       "_view_module": "@jupyter-widgets/base",
       "_view_module_version": "1.2.0",
       "_view_name": "LayoutView",
       "align_content": null,
       "align_items": null,
       "align_self": null,
       "border": null,
       "bottom": null,
       "display": null,
       "flex": null,
       "flex_flow": null,
       "grid_area": null,
       "grid_auto_columns": null,
       "grid_auto_flow": null,
       "grid_auto_rows": null,
       "grid_column": null,
       "grid_gap": null,
       "grid_row": null,
       "grid_template_areas": null,
       "grid_template_columns": null,
       "grid_template_rows": null,
       "height": null,
       "justify_content": null,
       "justify_items": null,
       "left": null,
       "margin": null,
       "max_height": null,
       "max_width": null,
       "min_height": null,
       "min_width": null,
       "object_fit": null,
       "object_position": null,
       "order": null,
       "overflow": null,
       "overflow_x": null,
       "overflow_y": null,
       "padding": null,
       "right": null,
       "top": null,
       "visibility": null,
       "width": null
      }
     },
     "0feea66dd39742d4b40bc4a43f93eafd": {
      "model_module": "@jupyter-widgets/controls",
      "model_module_version": "1.5.0",
      "model_name": "FloatProgressModel",
      "state": {
       "_dom_classes": [],
       "_model_module": "@jupyter-widgets/controls",
       "_model_module_version": "1.5.0",
       "_model_name": "FloatProgressModel",
       "_view_count": null,
       "_view_module": "@jupyter-widgets/controls",
       "_view_module_version": "1.5.0",
       "_view_name": "ProgressView",
       "bar_style": "success",
       "description": "",
       "description_tooltip": null,
       "layout": "IPY_MODEL_3521c42436894afb82efb1b883bdda29",
       "max": 5000.0,
       "min": 0.0,
       "orientation": "horizontal",
       "style": "IPY_MODEL_2d7b45abf3f44404864d3e8f08fe130a",
       "value": 5000.0
      }
     },
     "12cc9ea131f44abea77c45c075885cd6": {
      "model_module": "@jupyter-widgets/base",
      "model_module_version": "1.2.0",
      "model_name": "LayoutModel",
      "state": {
       "_model_module": "@jupyter-widgets/base",
       "_model_module_version": "1.2.0",
       "_model_name": "LayoutModel",
       "_view_count": null,
       "_view_module": "@jupyter-widgets/base",
       "_view_module_version": "1.2.0",
       "_view_name": "LayoutView",
       "align_content": null,
       "align_items": null,
       "align_self": null,
       "border": null,
       "bottom": null,
       "display": null,
       "flex": null,
       "flex_flow": null,
       "grid_area": null,
       "grid_auto_columns": null,
       "grid_auto_flow": null,
       "grid_auto_rows": null,
       "grid_column": null,
       "grid_gap": null,
       "grid_row": null,
       "grid_template_areas": null,
       "grid_template_columns": null,
       "grid_template_rows": null,
       "height": null,
       "justify_content": null,
       "justify_items": null,
       "left": null,
       "margin": null,
       "max_height": null,
       "max_width": null,
       "min_height": null,
       "min_width": null,
       "object_fit": null,
       "object_position": null,
       "order": null,
       "overflow": null,
       "overflow_x": null,
       "overflow_y": null,
       "padding": null,
       "right": null,
       "top": null,
       "visibility": null,
       "width": null
      }
     },
     "1c20019b03df4de6bdde2d34ace55df8": {
      "model_module": "@jupyter-widgets/controls",
      "model_module_version": "1.5.0",
      "model_name": "DescriptionStyleModel",
      "state": {
       "_model_module": "@jupyter-widgets/controls",
       "_model_module_version": "1.5.0",
       "_model_name": "DescriptionStyleModel",
       "_view_count": null,
       "_view_module": "@jupyter-widgets/base",
       "_view_module_version": "1.2.0",
       "_view_name": "StyleView",
       "description_width": ""
      }
     },
     "227450929f5d4b02938e2e65c7b139c1": {
      "model_module": "@jupyter-widgets/controls",
      "model_module_version": "1.5.0",
      "model_name": "HTMLModel",
      "state": {
       "_dom_classes": [],
       "_model_module": "@jupyter-widgets/controls",
       "_model_module_version": "1.5.0",
       "_model_name": "HTMLModel",
       "_view_count": null,
       "_view_module": "@jupyter-widgets/controls",
       "_view_module_version": "1.5.0",
       "_view_name": "HTMLView",
       "description": "",
       "description_tooltip": null,
       "layout": "IPY_MODEL_12cc9ea131f44abea77c45c075885cd6",
       "placeholder": "​",
       "style": "IPY_MODEL_2db9add762684ce4acb0854011148190",
       "value": " 5000/5000 [00:33&lt;00:00, 152.29it/s]"
      }
     },
     "26543cb76dbe44849a59de8b81a2a711": {
      "model_module": "@jupyter-widgets/base",
      "model_module_version": "1.2.0",
      "model_name": "LayoutModel",
      "state": {
       "_model_module": "@jupyter-widgets/base",
       "_model_module_version": "1.2.0",
       "_model_name": "LayoutModel",
       "_view_count": null,
       "_view_module": "@jupyter-widgets/base",
       "_view_module_version": "1.2.0",
       "_view_name": "LayoutView",
       "align_content": null,
       "align_items": null,
       "align_self": null,
       "border": null,
       "bottom": null,
       "display": null,
       "flex": null,
       "flex_flow": null,
       "grid_area": null,
       "grid_auto_columns": null,
       "grid_auto_flow": null,
       "grid_auto_rows": null,
       "grid_column": null,
       "grid_gap": null,
       "grid_row": null,
       "grid_template_areas": null,
       "grid_template_columns": null,
       "grid_template_rows": null,
       "height": null,
       "justify_content": null,
       "justify_items": null,
       "left": null,
       "margin": null,
       "max_height": null,
       "max_width": null,
       "min_height": null,
       "min_width": null,
       "object_fit": null,
       "object_position": null,
       "order": null,
       "overflow": null,
       "overflow_x": null,
       "overflow_y": null,
       "padding": null,
       "right": null,
       "top": null,
       "visibility": null,
       "width": null
      }
     },
     "2d7b45abf3f44404864d3e8f08fe130a": {
      "model_module": "@jupyter-widgets/controls",
      "model_module_version": "1.5.0",
      "model_name": "ProgressStyleModel",
      "state": {
       "_model_module": "@jupyter-widgets/controls",
       "_model_module_version": "1.5.0",
       "_model_name": "ProgressStyleModel",
       "_view_count": null,
       "_view_module": "@jupyter-widgets/base",
       "_view_module_version": "1.2.0",
       "_view_name": "StyleView",
       "bar_color": null,
       "description_width": ""
      }
     },
     "2db9add762684ce4acb0854011148190": {
      "model_module": "@jupyter-widgets/controls",
      "model_module_version": "1.5.0",
      "model_name": "DescriptionStyleModel",
      "state": {
       "_model_module": "@jupyter-widgets/controls",
       "_model_module_version": "1.5.0",
       "_model_name": "DescriptionStyleModel",
       "_view_count": null,
       "_view_module": "@jupyter-widgets/base",
       "_view_module_version": "1.2.0",
       "_view_name": "StyleView",
       "description_width": ""
      }
     },
     "3521c42436894afb82efb1b883bdda29": {
      "model_module": "@jupyter-widgets/base",
      "model_module_version": "1.2.0",
      "model_name": "LayoutModel",
      "state": {
       "_model_module": "@jupyter-widgets/base",
       "_model_module_version": "1.2.0",
       "_model_name": "LayoutModel",
       "_view_count": null,
       "_view_module": "@jupyter-widgets/base",
       "_view_module_version": "1.2.0",
       "_view_name": "LayoutView",
       "align_content": null,
       "align_items": null,
       "align_self": null,
       "border": null,
       "bottom": null,
       "display": null,
       "flex": null,
       "flex_flow": null,
       "grid_area": null,
       "grid_auto_columns": null,
       "grid_auto_flow": null,
       "grid_auto_rows": null,
       "grid_column": null,
       "grid_gap": null,
       "grid_row": null,
       "grid_template_areas": null,
       "grid_template_columns": null,
       "grid_template_rows": null,
       "height": null,
       "justify_content": null,
       "justify_items": null,
       "left": null,
       "margin": null,
       "max_height": null,
       "max_width": null,
       "min_height": null,
       "min_width": null,
       "object_fit": null,
       "object_position": null,
       "order": null,
       "overflow": null,
       "overflow_x": null,
       "overflow_y": null,
       "padding": null,
       "right": null,
       "top": null,
       "visibility": null,
       "width": null
      }
     },
     "35ccf517fe4844b2b737cf8b34dbecbe": {
      "model_module": "@jupyter-widgets/controls",
      "model_module_version": "1.5.0",
      "model_name": "HBoxModel",
      "state": {
       "_dom_classes": [],
       "_model_module": "@jupyter-widgets/controls",
       "_model_module_version": "1.5.0",
       "_model_name": "HBoxModel",
       "_view_count": null,
       "_view_module": "@jupyter-widgets/controls",
       "_view_module_version": "1.5.0",
       "_view_name": "HBoxView",
       "box_style": "",
       "children": [
        "IPY_MODEL_4f5f7184fba24996a9cafa3db1fcb06d",
        "IPY_MODEL_0feea66dd39742d4b40bc4a43f93eafd",
        "IPY_MODEL_227450929f5d4b02938e2e65c7b139c1"
       ],
       "layout": "IPY_MODEL_00de5564ee2f4dd38403787c25101456"
      }
     },
     "3eac2fba11fe44b99d9f7604808497ea": {
      "model_module": "@jupyter-widgets/controls",
      "model_module_version": "1.5.0",
      "model_name": "FloatProgressModel",
      "state": {
       "_dom_classes": [],
       "_model_module": "@jupyter-widgets/controls",
       "_model_module_version": "1.5.0",
       "_model_name": "FloatProgressModel",
       "_view_count": null,
       "_view_module": "@jupyter-widgets/controls",
       "_view_module_version": "1.5.0",
       "_view_name": "ProgressView",
       "bar_style": "success",
       "description": "",
       "description_tooltip": null,
       "layout": "IPY_MODEL_8077aa1a95494babb65ff4d1ce3ca209",
       "max": 10.0,
       "min": 0.0,
       "orientation": "horizontal",
       "style": "IPY_MODEL_9ce9718b5a1b4aed92fcd1d8d50ee5cc",
       "value": 10.0
      }
     },
     "4f5f7184fba24996a9cafa3db1fcb06d": {
      "model_module": "@jupyter-widgets/controls",
      "model_module_version": "1.5.0",
      "model_name": "HTMLModel",
      "state": {
       "_dom_classes": [],
       "_model_module": "@jupyter-widgets/controls",
       "_model_module_version": "1.5.0",
       "_model_name": "HTMLModel",
       "_view_count": null,
       "_view_module": "@jupyter-widgets/controls",
       "_view_module_version": "1.5.0",
       "_view_name": "HTMLView",
       "description": "",
       "description_tooltip": null,
       "layout": "IPY_MODEL_26543cb76dbe44849a59de8b81a2a711",
       "placeholder": "​",
       "style": "IPY_MODEL_1c20019b03df4de6bdde2d34ace55df8",
       "value": "Computing F...: 100%"
      }
     },
     "5f4230c406d74ea1aa44e031840db94e": {
      "model_module": "@jupyter-widgets/controls",
      "model_module_version": "1.5.0",
      "model_name": "HTMLModel",
      "state": {
       "_dom_classes": [],
       "_model_module": "@jupyter-widgets/controls",
       "_model_module_version": "1.5.0",
       "_model_name": "HTMLModel",
       "_view_count": null,
       "_view_module": "@jupyter-widgets/controls",
       "_view_module_version": "1.5.0",
       "_view_name": "HTMLView",
       "description": "",
       "description_tooltip": null,
       "layout": "IPY_MODEL_8eb64bf80e77450b960cae7d127f92f9",
       "placeholder": "​",
       "style": "IPY_MODEL_66a21d19540347b793091fae4d4adf6f",
       "value": " 10/10 [01:42&lt;00:00,  9.81s/it]"
      }
     },
     "66a21d19540347b793091fae4d4adf6f": {
      "model_module": "@jupyter-widgets/controls",
      "model_module_version": "1.5.0",
      "model_name": "DescriptionStyleModel",
      "state": {
       "_model_module": "@jupyter-widgets/controls",
       "_model_module_version": "1.5.0",
       "_model_name": "DescriptionStyleModel",
       "_view_count": null,
       "_view_module": "@jupyter-widgets/base",
       "_view_module_version": "1.2.0",
       "_view_name": "StyleView",
       "description_width": ""
      }
     },
     "8077aa1a95494babb65ff4d1ce3ca209": {
      "model_module": "@jupyter-widgets/base",
      "model_module_version": "1.2.0",
      "model_name": "LayoutModel",
      "state": {
       "_model_module": "@jupyter-widgets/base",
       "_model_module_version": "1.2.0",
       "_model_name": "LayoutModel",
       "_view_count": null,
       "_view_module": "@jupyter-widgets/base",
       "_view_module_version": "1.2.0",
       "_view_name": "LayoutView",
       "align_content": null,
       "align_items": null,
       "align_self": null,
       "border": null,
       "bottom": null,
       "display": null,
       "flex": null,
       "flex_flow": null,
       "grid_area": null,
       "grid_auto_columns": null,
       "grid_auto_flow": null,
       "grid_auto_rows": null,
       "grid_column": null,
       "grid_gap": null,
       "grid_row": null,
       "grid_template_areas": null,
       "grid_template_columns": null,
       "grid_template_rows": null,
       "height": null,
       "justify_content": null,
       "justify_items": null,
       "left": null,
       "margin": null,
       "max_height": null,
       "max_width": null,
       "min_height": null,
       "min_width": null,
       "object_fit": null,
       "object_position": null,
       "order": null,
       "overflow": null,
       "overflow_x": null,
       "overflow_y": null,
       "padding": null,
       "right": null,
       "top": null,
       "visibility": null,
       "width": null
      }
     },
     "8eb64bf80e77450b960cae7d127f92f9": {
      "model_module": "@jupyter-widgets/base",
      "model_module_version": "1.2.0",
      "model_name": "LayoutModel",
      "state": {
       "_model_module": "@jupyter-widgets/base",
       "_model_module_version": "1.2.0",
       "_model_name": "LayoutModel",
       "_view_count": null,
       "_view_module": "@jupyter-widgets/base",
       "_view_module_version": "1.2.0",
       "_view_name": "LayoutView",
       "align_content": null,
       "align_items": null,
       "align_self": null,
       "border": null,
       "bottom": null,
       "display": null,
       "flex": null,
       "flex_flow": null,
       "grid_area": null,
       "grid_auto_columns": null,
       "grid_auto_flow": null,
       "grid_auto_rows": null,
       "grid_column": null,
       "grid_gap": null,
       "grid_row": null,
       "grid_template_areas": null,
       "grid_template_columns": null,
       "grid_template_rows": null,
       "height": null,
       "justify_content": null,
       "justify_items": null,
       "left": null,
       "margin": null,
       "max_height": null,
       "max_width": null,
       "min_height": null,
       "min_width": null,
       "object_fit": null,
       "object_position": null,
       "order": null,
       "overflow": null,
       "overflow_x": null,
       "overflow_y": null,
       "padding": null,
       "right": null,
       "top": null,
       "visibility": null,
       "width": null
      }
     },
     "97ed36e943384a83ab85eb8e4da1e5ee": {
      "model_module": "@jupyter-widgets/base",
      "model_module_version": "1.2.0",
      "model_name": "LayoutModel",
      "state": {
       "_model_module": "@jupyter-widgets/base",
       "_model_module_version": "1.2.0",
       "_model_name": "LayoutModel",
       "_view_count": null,
       "_view_module": "@jupyter-widgets/base",
       "_view_module_version": "1.2.0",
       "_view_name": "LayoutView",
       "align_content": null,
       "align_items": null,
       "align_self": null,
       "border": null,
       "bottom": null,
       "display": null,
       "flex": null,
       "flex_flow": null,
       "grid_area": null,
       "grid_auto_columns": null,
       "grid_auto_flow": null,
       "grid_auto_rows": null,
       "grid_column": null,
       "grid_gap": null,
       "grid_row": null,
       "grid_template_areas": null,
       "grid_template_columns": null,
       "grid_template_rows": null,
       "height": null,
       "justify_content": null,
       "justify_items": null,
       "left": null,
       "margin": null,
       "max_height": null,
       "max_width": null,
       "min_height": null,
       "min_width": null,
       "object_fit": null,
       "object_position": null,
       "order": null,
       "overflow": null,
       "overflow_x": null,
       "overflow_y": null,
       "padding": null,
       "right": null,
       "top": null,
       "visibility": null,
       "width": null
      }
     },
     "9bce8c4d01db40d5b4498a38ed1f5ef6": {
      "model_module": "@jupyter-widgets/base",
      "model_module_version": "1.2.0",
      "model_name": "LayoutModel",
      "state": {
       "_model_module": "@jupyter-widgets/base",
       "_model_module_version": "1.2.0",
       "_model_name": "LayoutModel",
       "_view_count": null,
       "_view_module": "@jupyter-widgets/base",
       "_view_module_version": "1.2.0",
       "_view_name": "LayoutView",
       "align_content": null,
       "align_items": null,
       "align_self": null,
       "border": null,
       "bottom": null,
       "display": null,
       "flex": null,
       "flex_flow": null,
       "grid_area": null,
       "grid_auto_columns": null,
       "grid_auto_flow": null,
       "grid_auto_rows": null,
       "grid_column": null,
       "grid_gap": null,
       "grid_row": null,
       "grid_template_areas": null,
       "grid_template_columns": null,
       "grid_template_rows": null,
       "height": null,
       "justify_content": null,
       "justify_items": null,
       "left": null,
       "margin": null,
       "max_height": null,
       "max_width": null,
       "min_height": null,
       "min_width": null,
       "object_fit": null,
       "object_position": null,
       "order": null,
       "overflow": null,
       "overflow_x": null,
       "overflow_y": null,
       "padding": null,
       "right": null,
       "top": null,
       "visibility": null,
       "width": null
      }
     },
     "9ce9718b5a1b4aed92fcd1d8d50ee5cc": {
      "model_module": "@jupyter-widgets/controls",
      "model_module_version": "1.5.0",
      "model_name": "ProgressStyleModel",
      "state": {
       "_model_module": "@jupyter-widgets/controls",
       "_model_module_version": "1.5.0",
       "_model_name": "ProgressStyleModel",
       "_view_count": null,
       "_view_module": "@jupyter-widgets/base",
       "_view_module_version": "1.2.0",
       "_view_name": "StyleView",
       "bar_color": null,
       "description_width": ""
      }
     },
     "ab8a4740684f4fe39f7459396e4c65a3": {
      "model_module": "@jupyter-widgets/controls",
      "model_module_version": "1.5.0",
      "model_name": "HBoxModel",
      "state": {
       "_dom_classes": [],
       "_model_module": "@jupyter-widgets/controls",
       "_model_module_version": "1.5.0",
       "_model_name": "HBoxModel",
       "_view_count": null,
       "_view_module": "@jupyter-widgets/controls",
       "_view_module_version": "1.5.0",
       "_view_name": "HBoxView",
       "box_style": "",
       "children": [
        "IPY_MODEL_f752bf9103d64a189468622f717eea9a",
        "IPY_MODEL_3eac2fba11fe44b99d9f7604808497ea",
        "IPY_MODEL_5f4230c406d74ea1aa44e031840db94e"
       ],
       "layout": "IPY_MODEL_9bce8c4d01db40d5b4498a38ed1f5ef6"
      }
     },
     "e9e97b0e235841199209c2311aedb753": {
      "model_module": "@jupyter-widgets/controls",
      "model_module_version": "1.5.0",
      "model_name": "DescriptionStyleModel",
      "state": {
       "_model_module": "@jupyter-widgets/controls",
       "_model_module_version": "1.5.0",
       "_model_name": "DescriptionStyleModel",
       "_view_count": null,
       "_view_module": "@jupyter-widgets/base",
       "_view_module_version": "1.2.0",
       "_view_name": "StyleView",
       "description_width": ""
      }
     },
     "f752bf9103d64a189468622f717eea9a": {
      "model_module": "@jupyter-widgets/controls",
      "model_module_version": "1.5.0",
      "model_name": "HTMLModel",
      "state": {
       "_dom_classes": [],
       "_model_module": "@jupyter-widgets/controls",
       "_model_module_version": "1.5.0",
       "_model_name": "HTMLModel",
       "_view_count": null,
       "_view_module": "@jupyter-widgets/controls",
       "_view_module_version": "1.5.0",
       "_view_name": "HTMLView",
       "description": "",
       "description_tooltip": null,
       "layout": "IPY_MODEL_97ed36e943384a83ab85eb8e4da1e5ee",
       "placeholder": "​",
       "style": "IPY_MODEL_e9e97b0e235841199209c2311aedb753",
       "value": "Computing forget accuracy...: 100%"
      }
     }
    },
    "version_major": 2,
    "version_minor": 0
   }
  }
 },
 "nbformat": 4,
 "nbformat_minor": 5
}
